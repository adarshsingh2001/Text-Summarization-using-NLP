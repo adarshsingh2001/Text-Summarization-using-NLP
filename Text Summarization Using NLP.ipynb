{
 "cells": [
  {
   "cell_type": "markdown",
   "metadata": {},
   "source": [
    " Steps involved in Text Summarization\n",
    "\n",
    "- Text Cleaning (Removing Stopwords and Punctuation)\n",
    "- Sentence Tokenization\n",
    "- Word Tokenization\n",
    "- Word-frequency table\n",
    "- Clustering\n",
    "- Summarization"
   ]
  },
  {
   "cell_type": "code",
   "execution_count": 29,
   "metadata": {},
   "outputs": [],
   "source": [
    "text = \"\"\"A brief state of unconsciousness may tear your world apart or may zap your mere life.\n",
    "Lack of sleep plays an upper hand in road accidents every now and then.\n",
    "Most people are aware of the dangers of driving while intoxicated, but many do not know that drowsiness also impairs judgment, performance and reaction times, just like alcohol and drugs do.\n",
    "Severe injuries, thousands of deaths and billions of monetary loses results from drowsy driving.\n",
    "So, it’s important to develop a system in vehicles to minimize such mis happenings.\"\"\""
   ]
  },
  {
   "cell_type": "code",
   "execution_count": 30,
   "metadata": {},
   "outputs": [],
   "source": [
    "import spacy\n",
    "from spacy.lang.en.stop_words import STOP_WORDS\n",
    "from string import punctuation"
   ]
  },
  {
   "cell_type": "code",
   "execution_count": 31,
   "metadata": {},
   "outputs": [
    {
     "data": {
      "text/plain": [
       "['really',\n",
       " 'less',\n",
       " 'during',\n",
       " 'no',\n",
       " 'ten',\n",
       " 'over',\n",
       " \"'ve\",\n",
       " 'up',\n",
       " 'along',\n",
       " 'becomes',\n",
       " 'them',\n",
       " 'yet',\n",
       " 'each',\n",
       " 'thus',\n",
       " 'will',\n",
       " 'latterly',\n",
       " 'before',\n",
       " 'was',\n",
       " 'could',\n",
       " 'per',\n",
       " 'therein',\n",
       " 'several',\n",
       " 'what',\n",
       " 'somewhere',\n",
       " 'six',\n",
       " 'sixty',\n",
       " 'now',\n",
       " 'doing',\n",
       " 'although',\n",
       " 'here',\n",
       " 'become',\n",
       " 'whole',\n",
       " 'for',\n",
       " 'twenty',\n",
       " 'when',\n",
       " 'some',\n",
       " 'formerly',\n",
       " 'whom',\n",
       " 'they',\n",
       " 'becoming',\n",
       " 'latter',\n",
       " 'then',\n",
       " '’m',\n",
       " 'whether',\n",
       " 'which',\n",
       " 'hers',\n",
       " 'somehow',\n",
       " 'she',\n",
       " 'amount',\n",
       " 'back',\n",
       " \"n't\",\n",
       " 'fifty',\n",
       " 'against',\n",
       " 'upon',\n",
       " 'beforehand',\n",
       " 'can',\n",
       " 'were',\n",
       " 'from',\n",
       " \"'m\",\n",
       " 'part',\n",
       " 'used',\n",
       " 'done',\n",
       " 'why',\n",
       " 'across',\n",
       " 'those',\n",
       " 'never',\n",
       " 'are',\n",
       " 'as',\n",
       " 'might',\n",
       " '‘d',\n",
       " 'one',\n",
       " 'an',\n",
       " 'show',\n",
       " 'too',\n",
       " 'did',\n",
       " 'last',\n",
       " 'nine',\n",
       " 'meanwhile',\n",
       " 'put',\n",
       " 'on',\n",
       " 'thru',\n",
       " 'or',\n",
       " 'around',\n",
       " 'be',\n",
       " 'thereby',\n",
       " 'down',\n",
       " 'few',\n",
       " 'once',\n",
       " 'toward',\n",
       " 'every',\n",
       " 'various',\n",
       " 'due',\n",
       " 'together',\n",
       " 'just',\n",
       " 'these',\n",
       " 'may',\n",
       " 'either',\n",
       " 'must',\n",
       " 'something',\n",
       " 'two',\n",
       " 'after',\n",
       " 'towards',\n",
       " 'moreover',\n",
       " 'whereafter',\n",
       " 'had',\n",
       " 'nowhere',\n",
       " 'whatever',\n",
       " 'front',\n",
       " \"'s\",\n",
       " 'get',\n",
       " 'namely',\n",
       " 'because',\n",
       " 'its',\n",
       " 'next',\n",
       " 'should',\n",
       " 'being',\n",
       " 'further',\n",
       " 'least',\n",
       " 'except',\n",
       " 'their',\n",
       " \"'re\",\n",
       " 'another',\n",
       " 'a',\n",
       " 'me',\n",
       " 'everyone',\n",
       " 'sometime',\n",
       " 'we',\n",
       " 'hundred',\n",
       " 'other',\n",
       " 'wherein',\n",
       " 'top',\n",
       " 'his',\n",
       " 'very',\n",
       " 'alone',\n",
       " 'is',\n",
       " 'within',\n",
       " 'all',\n",
       " 'so',\n",
       " 'make',\n",
       " 'n’t',\n",
       " 'see',\n",
       " 'most',\n",
       " 'indeed',\n",
       " 'seemed',\n",
       " 'whereas',\n",
       " 'beside',\n",
       " 'i',\n",
       " 'third',\n",
       " 'do',\n",
       " 'between',\n",
       " 'mine',\n",
       " 'of',\n",
       " 'always',\n",
       " 'therefore',\n",
       " 'former',\n",
       " 'by',\n",
       " 'whoever',\n",
       " 'while',\n",
       " 'not',\n",
       " 'regarding',\n",
       " 'only',\n",
       " 'eleven',\n",
       " 'fifteen',\n",
       " 'often',\n",
       " 'thereafter',\n",
       " 'however',\n",
       " 'unless',\n",
       " 'amongst',\n",
       " 'already',\n",
       " 'hereupon',\n",
       " 'nothing',\n",
       " 'wherever',\n",
       " 'whither',\n",
       " 'throughout',\n",
       " 'neither',\n",
       " 'anything',\n",
       " 'through',\n",
       " 'below',\n",
       " 'everywhere',\n",
       " 'much',\n",
       " 'without',\n",
       " 'anywhere',\n",
       " 'also',\n",
       " 'everything',\n",
       " 'four',\n",
       " 'cannot',\n",
       " 'herein',\n",
       " 'beyond',\n",
       " 'to',\n",
       " 'seem',\n",
       " 'out',\n",
       " 'first',\n",
       " 'eight',\n",
       " 'behind',\n",
       " 'nor',\n",
       " 'seems',\n",
       " 'anyone',\n",
       " '’ll',\n",
       " 'ourselves',\n",
       " 'thereupon',\n",
       " 'three',\n",
       " 'your',\n",
       " 'n‘t',\n",
       " 'above',\n",
       " 'am',\n",
       " 'others',\n",
       " 'in',\n",
       " 'made',\n",
       " 'via',\n",
       " 'same',\n",
       " 'about',\n",
       " '’re',\n",
       " 'the',\n",
       " 'how',\n",
       " 'you',\n",
       " 'none',\n",
       " 'onto',\n",
       " 'whenever',\n",
       " '’s',\n",
       " 'us',\n",
       " 'quite',\n",
       " 'hereafter',\n",
       " 'that',\n",
       " 'but',\n",
       " 'forty',\n",
       " 'nevertheless',\n",
       " 'if',\n",
       " 'name',\n",
       " 'almost',\n",
       " 'whereby',\n",
       " '’ve',\n",
       " 'been',\n",
       " 'many',\n",
       " 'elsewhere',\n",
       " 'hereby',\n",
       " 'else',\n",
       " 'her',\n",
       " 'has',\n",
       " '‘re',\n",
       " 'mostly',\n",
       " 'please',\n",
       " 'still',\n",
       " '’d',\n",
       " 'off',\n",
       " 'enough',\n",
       " 'well',\n",
       " 'sometimes',\n",
       " 'using',\n",
       " 'own',\n",
       " \"'ll\",\n",
       " 'and',\n",
       " 'ever',\n",
       " 'take',\n",
       " 'ours',\n",
       " 'full',\n",
       " 'afterwards',\n",
       " 'twelve',\n",
       " 'yourselves',\n",
       " 'whose',\n",
       " 'there',\n",
       " 'under',\n",
       " 'empty',\n",
       " 'this',\n",
       " 're',\n",
       " '‘ve',\n",
       " 'move',\n",
       " 'side',\n",
       " 'since',\n",
       " 'whence',\n",
       " 'he',\n",
       " 'such',\n",
       " 'until',\n",
       " 'him',\n",
       " 'it',\n",
       " 'though',\n",
       " 'itself',\n",
       " 'with',\n",
       " 'who',\n",
       " 'besides',\n",
       " '‘s',\n",
       " 'bottom',\n",
       " 'even',\n",
       " 'give',\n",
       " 'five',\n",
       " 'herself',\n",
       " 'yourself',\n",
       " 'than',\n",
       " 'our',\n",
       " 'anyhow',\n",
       " 'keep',\n",
       " '‘ll',\n",
       " 'does',\n",
       " 'again',\n",
       " 'go',\n",
       " 'rather',\n",
       " 'hence',\n",
       " 'himself',\n",
       " 'have',\n",
       " 'say',\n",
       " 'otherwise',\n",
       " 'both',\n",
       " '‘m',\n",
       " 'serious',\n",
       " 'any',\n",
       " 'thence',\n",
       " \"'d\",\n",
       " 'myself',\n",
       " 'yours',\n",
       " 'became',\n",
       " 'where',\n",
       " 'my',\n",
       " 'ca',\n",
       " 'into',\n",
       " 'anyway',\n",
       " 'at',\n",
       " 'would',\n",
       " 'noone',\n",
       " 'whereupon',\n",
       " 'among',\n",
       " 'someone',\n",
       " 'more',\n",
       " 'call',\n",
       " 'themselves',\n",
       " 'seeming',\n",
       " 'perhaps',\n",
       " 'nobody']"
      ]
     },
     "execution_count": 31,
     "metadata": {},
     "output_type": "execute_result"
    }
   ],
   "source": [
    "stopwords = list(STOP_WORDS)\n",
    "stopwords"
   ]
  },
  {
   "cell_type": "code",
   "execution_count": 32,
   "metadata": {},
   "outputs": [],
   "source": [
    "nlp = spacy.load('en_core_web_sm')"
   ]
  },
  {
   "cell_type": "code",
   "execution_count": 33,
   "metadata": {},
   "outputs": [],
   "source": [
    "doc = nlp(text)"
   ]
  },
  {
   "cell_type": "code",
   "execution_count": 34,
   "metadata": {},
   "outputs": [
    {
     "name": "stdout",
     "output_type": "stream",
     "text": [
      "['A', 'brief', 'state', 'of', 'unconsciousness', 'may', 'tear', 'your', 'world', 'apart', 'or', 'may', 'zap', 'your', 'mere', 'life', '.', '\\n', 'Lack', 'of', 'sleep', 'plays', 'an', 'upper', 'hand', 'in', 'road', 'accidents', 'every', 'now', 'and', 'then', '.', '\\n', 'Most', 'people', 'are', 'aware', 'of', 'the', 'dangers', 'of', 'driving', 'while', 'intoxicated', ',', 'but', 'many', 'do', 'not', 'know', 'that', 'drowsiness', 'also', 'impairs', 'judgment', ',', 'performance', 'and', 'reaction', 'times', ',', 'just', 'like', 'alcohol', 'and', 'drugs', 'do', '.', '\\n', 'Severe', 'injuries', ',', 'thousands', 'of', 'deaths', 'and', 'billions', 'of', 'monetary', 'loses', 'results', 'from', 'drowsy', 'driving', '.', '\\n', 'So', ',', 'it', '’s', 'important', 'to', 'develop', 'a', 'system', 'in', 'vehicles', 'to', 'minimize', 'such', 'mis', 'happenings', '.']\n"
     ]
    }
   ],
   "source": [
    "tokens = [token.text for token in doc]\n",
    "print(tokens)"
   ]
  },
  {
   "cell_type": "code",
   "execution_count": 35,
   "metadata": {},
   "outputs": [
    {
     "data": {
      "text/plain": [
       "'!\"#$%&\\'()*+,-./:;<=>?@[\\\\]^_`{|}~\\n'"
      ]
     },
     "execution_count": 35,
     "metadata": {},
     "output_type": "execute_result"
    }
   ],
   "source": [
    "punctuation = punctuation +'\\n'\n",
    "punctuation"
   ]
  },
  {
   "cell_type": "code",
   "execution_count": 36,
   "metadata": {},
   "outputs": [],
   "source": [
    "word_frequencies = {}\n",
    "for word in doc:\n",
    "    if word.text.lower() not in stopwords:\n",
    "        if word.text.lower() not in punctuation:\n",
    "            if word.text not in word_frequencies.keys():\n",
    "                word_frequencies[word.text] = 1\n",
    "            else:\n",
    "                word_frequencies[word.text] +=1"
   ]
  },
  {
   "cell_type": "code",
   "execution_count": 37,
   "metadata": {},
   "outputs": [
    {
     "name": "stdout",
     "output_type": "stream",
     "text": [
      "{'brief': 1, 'state': 1, 'unconsciousness': 1, 'tear': 1, 'world': 1, 'apart': 1, 'zap': 1, 'mere': 1, 'life': 1, 'Lack': 1, 'sleep': 1, 'plays': 1, 'upper': 1, 'hand': 1, 'road': 1, 'accidents': 1, 'people': 1, 'aware': 1, 'dangers': 1, 'driving': 2, 'intoxicated': 1, 'know': 1, 'drowsiness': 1, 'impairs': 1, 'judgment': 1, 'performance': 1, 'reaction': 1, 'times': 1, 'like': 1, 'alcohol': 1, 'drugs': 1, 'Severe': 1, 'injuries': 1, 'thousands': 1, 'deaths': 1, 'billions': 1, 'monetary': 1, 'loses': 1, 'results': 1, 'drowsy': 1, 'important': 1, 'develop': 1, 'system': 1, 'vehicles': 1, 'minimize': 1, 'mis': 1, 'happenings': 1}\n"
     ]
    }
   ],
   "source": [
    "print(word_frequencies)"
   ]
  },
  {
   "cell_type": "code",
   "execution_count": 38,
   "metadata": {},
   "outputs": [
    {
     "data": {
      "text/plain": [
       "2"
      ]
     },
     "execution_count": 38,
     "metadata": {},
     "output_type": "execute_result"
    }
   ],
   "source": [
    "max_frequency = max(word_frequencies.values())\n",
    "max_frequency"
   ]
  },
  {
   "cell_type": "code",
   "execution_count": 39,
   "metadata": {},
   "outputs": [
    {
     "name": "stdout",
     "output_type": "stream",
     "text": [
      "{'brief': 0.5, 'state': 0.5, 'unconsciousness': 0.5, 'tear': 0.5, 'world': 0.5, 'apart': 0.5, 'zap': 0.5, 'mere': 0.5, 'life': 0.5, 'Lack': 0.5, 'sleep': 0.5, 'plays': 0.5, 'upper': 0.5, 'hand': 0.5, 'road': 0.5, 'accidents': 0.5, 'people': 0.5, 'aware': 0.5, 'dangers': 0.5, 'driving': 1.0, 'intoxicated': 0.5, 'know': 0.5, 'drowsiness': 0.5, 'impairs': 0.5, 'judgment': 0.5, 'performance': 0.5, 'reaction': 0.5, 'times': 0.5, 'like': 0.5, 'alcohol': 0.5, 'drugs': 0.5, 'Severe': 0.5, 'injuries': 0.5, 'thousands': 0.5, 'deaths': 0.5, 'billions': 0.5, 'monetary': 0.5, 'loses': 0.5, 'results': 0.5, 'drowsy': 0.5, 'important': 0.5, 'develop': 0.5, 'system': 0.5, 'vehicles': 0.5, 'minimize': 0.5, 'mis': 0.5, 'happenings': 0.5}\n"
     ]
    }
   ],
   "source": [
    "for word in word_frequencies.keys():\n",
    "    word_frequencies[word] = word_frequencies[word]/max_frequency\n",
    "print(word_frequencies)"
   ]
  },
  {
   "cell_type": "code",
   "execution_count": 40,
   "metadata": {},
   "outputs": [
    {
     "name": "stdout",
     "output_type": "stream",
     "text": [
      "[A brief state of unconsciousness may tear your world apart or may zap your mere life.\n",
      ", Lack of sleep plays an upper hand in road accidents every now and then.\n",
      ", Most people are aware of the dangers of driving while intoxicated, but many do not know that drowsiness also impairs judgment, performance and reaction times, just like alcohol and drugs do.\n",
      ", Severe injuries, thousands of deaths and billions of monetary loses results from drowsy driving.\n",
      ", So, it’s important to develop a system in vehicles to minimize such mis happenings.]\n"
     ]
    }
   ],
   "source": [
    "sentence_tokens = [sent for sent in doc.sents]\n",
    "print(sentence_tokens)"
   ]
  },
  {
   "cell_type": "code",
   "execution_count": 41,
   "metadata": {},
   "outputs": [],
   "source": [
    "sentence_scores = {}\n",
    "for sent in sentence_tokens:\n",
    "    for word in sent:\n",
    "        if word.text.lower() in word_frequencies.keys():\n",
    "            if sent not in sentence_scores.keys():\n",
    "                sentence_scores[sent] = word_frequencies[word.text.lower()]\n",
    "            else:\n",
    "                sentence_scores[sent]+= word_frequencies[word.text.lower()]"
   ]
  },
  {
   "cell_type": "code",
   "execution_count": 42,
   "metadata": {},
   "outputs": [
    {
     "data": {
      "text/plain": [
       "{A brief state of unconsciousness may tear your world apart or may zap your mere life.: 4.5,\n",
       " Lack of sleep plays an upper hand in road accidents every now and then.: 3.0,\n",
       " Most people are aware of the dangers of driving while intoxicated, but many do not know that drowsiness also impairs judgment, performance and reaction times, just like alcohol and drugs do.: 8.0,\n",
       " Severe injuries, thousands of deaths and billions of monetary loses results from drowsy driving.: 5.0,\n",
       " So, it’s important to develop a system in vehicles to minimize such mis happenings.: 3.5}"
      ]
     },
     "execution_count": 42,
     "metadata": {},
     "output_type": "execute_result"
    }
   ],
   "source": [
    "sentence_scores"
   ]
  },
  {
   "cell_type": "code",
   "execution_count": 43,
   "metadata": {},
   "outputs": [],
   "source": [
    "from heapq import nlargest"
   ]
  },
  {
   "cell_type": "code",
   "execution_count": 44,
   "metadata": {},
   "outputs": [
    {
     "data": {
      "text/plain": [
       "1"
      ]
     },
     "execution_count": 44,
     "metadata": {},
     "output_type": "execute_result"
    }
   ],
   "source": [
    "select_length = int(len(sentence_tokens)*0.3)\n",
    "select_length"
   ]
  },
  {
   "cell_type": "code",
   "execution_count": 45,
   "metadata": {},
   "outputs": [],
   "source": [
    "summary = nlargest(select_length,sentence_scores,key = sentence_scores.get)"
   ]
  },
  {
   "cell_type": "code",
   "execution_count": 46,
   "metadata": {},
   "outputs": [
    {
     "data": {
      "text/plain": [
       "[Most people are aware of the dangers of driving while intoxicated, but many do not know that drowsiness also impairs judgment, performance and reaction times, just like alcohol and drugs do.]"
      ]
     },
     "execution_count": 46,
     "metadata": {},
     "output_type": "execute_result"
    }
   ],
   "source": [
    "summary"
   ]
  },
  {
   "cell_type": "code",
   "execution_count": 47,
   "metadata": {},
   "outputs": [],
   "source": [
    "final_summary = [word.text for word in summary]"
   ]
  },
  {
   "cell_type": "code",
   "execution_count": 48,
   "metadata": {},
   "outputs": [],
   "source": [
    "summary = ' '.join(final_summary)"
   ]
  },
  {
   "cell_type": "code",
   "execution_count": 49,
   "metadata": {},
   "outputs": [
    {
     "name": "stdout",
     "output_type": "stream",
     "text": [
      "Most people are aware of the dangers of driving while intoxicated, but many do not know that drowsiness also impairs judgment, performance and reaction times, just like alcohol and drugs do.\n",
      "\n"
     ]
    }
   ],
   "source": [
    "print(summary)"
   ]
  },
  {
   "cell_type": "code",
   "execution_count": 50,
   "metadata": {},
   "outputs": [
    {
     "name": "stdout",
     "output_type": "stream",
     "text": [
      "A brief state of unconsciousness may tear your world apart or may zap your mere life.\n",
      "Lack of sleep plays an upper hand in road accidents every now and then.\n",
      "Most people are aware of the dangers of driving while intoxicated, but many do not know that drowsiness also impairs judgment, performance and reaction times, just like alcohol and drugs do.\n",
      "Severe injuries, thousands of deaths and billions of monetary loses results from drowsy driving.\n",
      "So, it’s important to develop a system in vehicles to minimize such mis happenings.\n"
     ]
    }
   ],
   "source": [
    "print(text)"
   ]
  },
  {
   "cell_type": "code",
   "execution_count": 51,
   "metadata": {},
   "outputs": [
    {
     "data": {
      "text/plain": [
       "529"
      ]
     },
     "execution_count": 51,
     "metadata": {},
     "output_type": "execute_result"
    }
   ],
   "source": [
    "len(text)"
   ]
  },
  {
   "cell_type": "code",
   "execution_count": 52,
   "metadata": {},
   "outputs": [
    {
     "data": {
      "text/plain": [
       "191"
      ]
     },
     "execution_count": 52,
     "metadata": {},
     "output_type": "execute_result"
    }
   ],
   "source": [
    "len(summary)"
   ]
  },
  {
   "cell_type": "code",
   "execution_count": null,
   "metadata": {},
   "outputs": [],
   "source": []
  }
 ],
 "metadata": {
  "kernelspec": {
   "display_name": "Python 3",
   "language": "python",
   "name": "python3"
  },
  "language_info": {
   "codemirror_mode": {
    "name": "ipython",
    "version": 3
   },
   "file_extension": ".py",
   "mimetype": "text/x-python",
   "name": "python",
   "nbconvert_exporter": "python",
   "pygments_lexer": "ipython3",
   "version": "3.8.3"
  }
 },
 "nbformat": 4,
 "nbformat_minor": 4
}
